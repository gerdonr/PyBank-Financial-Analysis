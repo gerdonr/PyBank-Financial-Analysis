{
 "cells": [
  {
   "cell_type": "code",
   "execution_count": null,
   "metadata": {},
   "outputs": [],
   "source": []
  },
  {
   "cell_type": "code",
   "execution_count": 15,
   "metadata": {},
   "outputs": [],
   "source": [
    "### from pathlib import Path\n",
    "import csv\n",
    "\n",
    "csv_menu_path = Path('PyRamen_menu_data.csv')\n",
    "\n",
    "menu = []\n",
    "\n",
    "with open(csv_menu_path,'r') as csv_menu_file:\n",
    "    csv_menu_reader = csv.reader(csv_menu_file, delimiter = ',')\n",
    "\n",
    "    csv_menu_header = next(csv_menu_reader)\n",
    "    \n",
    "    for row in csv_menu_reader:\n",
    "        menu.append(row)\n",
    "\n",
    "csv_sales_path = Path('PyRamen_sales_data.csv')\n",
    "\n",
    "sales = []\n",
    "\n",
    "with open(csv_sales_path, 'r') as csv_sales_file:\n",
    "    csv_sales_reader = csv.reader(csv_sales_file, delimiter = ',')\n",
    "    \n",
    "    csv_sales_header = next(csv_sales_reader)\n",
    "    \n",
    "    for row in csv_sales_reader:\n",
    "        sales.append(row)\n",
    "        \n",
    "    for row in sales:\n",
    "        sales[3] = \"Quantity\"\n",
    "        sales[4] = \"Menu_Item\"\n",
    "        \n",
    "report = {}\n",
    "\n",
    "report['01-count'] = 0\n",
    "report['02-revenue']= 0\n",
    "report['03-cogs'] = 0\n",
    "report['04-profit'] = 0"
   ]
  },
  {
   "cell_type": "code",
   "execution_count": 16,
   "metadata": {},
   "outputs": [
    {
     "data": {
      "text/plain": [
       "{'01-count': 0, '02-revenue': 0, '03-cogs': 0, '04-profit': 0}"
      ]
     },
     "execution_count": 16,
     "metadata": {},
     "output_type": "execute_result"
    }
   ],
   "source": [
    "report"
   ]
  },
  {
   "cell_type": "code",
   "execution_count": null,
   "metadata": {},
   "outputs": [],
   "source": []
  }
 ],
 "metadata": {
  "kernelspec": {
   "display_name": "Python 3",
   "language": "python",
   "name": "python3"
  },
  "language_info": {
   "codemirror_mode": {
    "name": "ipython",
    "version": 3
   },
   "file_extension": ".py",
   "mimetype": "text/x-python",
   "name": "python",
   "nbconvert_exporter": "python",
   "pygments_lexer": "ipython3",
   "version": "3.7.6"
  }
 },
 "nbformat": 4,
 "nbformat_minor": 4
}
