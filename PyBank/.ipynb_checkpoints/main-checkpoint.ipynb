{
 "cells": [
  {
   "cell_type": "markdown",
   "metadata": {},
   "source": [
    "# Python-Homework \n",
    "## PyBank\n",
    "### Completed by Rebecca Gerdon"
   ]
  },
  {
   "cell_type": "code",
   "execution_count": 5,
   "metadata": {},
   "outputs": [
    {
     "name": "stdout",
     "output_type": "stream",
     "text": [
      "Financial Analysis: ----------------------------- \n",
      "Total Months: 86\n",
      "Total: $38382578\n",
      "Average Change: $-2315.12 \n",
      "Greatest Increase in Profits: Feb-2012($1926159)\n",
      "Greatest Decrease in Profits: Sep-2013($-2196167)\n"
     ]
    }
   ],
   "source": [
    "from pathlib import Path\n",
    "import csv\n",
    "\n",
    "csvpath = Path('budget_data.csv')\n",
    "#imported the csv file\n",
    "\n",
    "with open(csvpath, 'r') as csvfile:\n",
    "    csvreader = csv.reader(csvfile, delimiter = ',')\n",
    "\n",
    "    csvheader = next(csvreader)\n",
    "    # Read the header row first \n",
    "    \n",
    "    row_count = 0\n",
    "    profit_loss_total = 0\n",
    "    prev_month_total = 0\n",
    "    profit_loss_change = []\n",
    "    curr_month_total = 0.0\n",
    "    max_profit_change = 0.0\n",
    "    min_profit_change = 0.0\n",
    "    monthly_profit_change = 0.0\n",
    "    max_profit_change_date = \"\"\n",
    "    min_profit_change_date = \"\"\n",
    "    #here we set up all the variables we need to keep track of \n",
    "\n",
    "    for row in csvreader:\n",
    "    \n",
    "        row_count += 1\n",
    "        #add 1 to the row count each time we iterate through the list \n",
    "        #to keep track of months\n",
    "        \n",
    "        profit_loss_total += int(row[1])\n",
    "        #add each subsequent profit or loss together as we iterate through the list\n",
    "        \n",
    "        curr_month_total = int(row[1])\n",
    "        #finding the total profit/loss of the current month we are looking at\n",
    "        \n",
    "        if row_count > 1:\n",
    "            monthly_profit_change = curr_month_total - prev_month_total\n",
    "        #to find the monthly profit change we need to know the each month so we \n",
    "        #can subtract previous month from current month\n",
    "        \n",
    "            profit_loss_change.append(monthly_profit_change)\n",
    "        #here we now take the montly change and add it to our list to keep track \n",
    "        #of change in profit and loss each month\n",
    "        \n",
    "            if monthly_profit_change > max_profit_change:\n",
    "                max_profit_change = monthly_profit_change\n",
    "                max_profit_change_date = row[0]\n",
    "            #here we are finding the date with the greatest profit and the amount\n",
    "            \n",
    "            elif monthly_profit_change < min_profit_change:\n",
    "                min_profit_change = monthly_profit_change\n",
    "                min_profit_change_date = row[0]\n",
    "            #here we are finding the date with the greatest loss and the amount\n",
    "            \n",
    "        prev_month_total = curr_month_total\n",
    "        #this sets our previous month as our current month to continue to iterate \n",
    "        #through our list\n",
    "        \n",
    "average_change = round((sum(profit_loss_change)/len(profit_loss_change)),2)   \n",
    "#finding the average profit/loss over the 86 months and rounding to 2 decimal places\n",
    "    \n",
    "print(\"Financial Analysis: ----------------------------- \")\n",
    "print(f\"Total Months: {row_count}\")\n",
    "print(f\"Total: ${profit_loss_total}\")\n",
    "print(f\"Average Change: ${average_change} \")\n",
    "print(f\"Greatest Increase in Profits: {max_profit_change_date}(${max_profit_change})\")\n",
    "print(f\"Greatest Decrease in Profits: {min_profit_change_date}(${min_profit_change})\")\n"
   ]
  },
  {
   "cell_type": "code",
   "execution_count": 3,
   "metadata": {},
   "outputs": [],
   "source": []
  },
  {
   "cell_type": "code",
   "execution_count": null,
   "metadata": {},
   "outputs": [],
   "source": []
  }
 ],
 "metadata": {
  "kernelspec": {
   "display_name": "Python 3",
   "language": "python",
   "name": "python3"
  },
  "language_info": {
   "codemirror_mode": {
    "name": "ipython",
    "version": 3
   },
   "file_extension": ".py",
   "mimetype": "text/x-python",
   "name": "python",
   "nbconvert_exporter": "python",
   "pygments_lexer": "ipython3",
   "version": "3.7.6"
  }
 },
 "nbformat": 4,
 "nbformat_minor": 4
}
