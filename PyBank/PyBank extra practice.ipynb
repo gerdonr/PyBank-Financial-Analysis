{
 "cells": [
  {
   "cell_type": "code",
   "execution_count": null,
   "metadata": {},
   "outputs": [],
   "source": []
  },
  {
   "cell_type": "code",
   "execution_count": 5,
   "metadata": {},
   "outputs": [
    {
     "name": "stdout",
     "output_type": "stream",
     "text": [
      "['Date', 'Profit/Losses']\n",
      "86\n",
      "38382578\n",
      "-2315.12\n",
      "1926159\n",
      "Feb-2012\n",
      "-2196167\n",
      "Sep-2013\n"
     ]
    }
   ],
   "source": [
    "from pathlib import Path\n",
    "import csv\n",
    "\n",
    "csvpath = Path('budget_data.csv')\n",
    "\n",
    "records = []\n",
    "\n",
    "with open(csvpath, 'r') as csvfile:\n",
    "    csvreader = csv.reader(csvfile, delimiter = ',')\n",
    "    # Read the header row first (skip this step if there is no header)\n",
    "    csvheader = next(csvreader)\n",
    "    \n",
    "    print(csvheader)\n",
    "    \n",
    "    row_count = 0\n",
    "    profit_loss_total = 0\n",
    "    prev_month_total = 0\n",
    "    profit_loss_change = []\n",
    "    curr_month_total = 0.0\n",
    "    max_profit_change = 0.0\n",
    "    min_profit_change = 0.0\n",
    "    monthly_profit_change = 0.0\n",
    "    max_profit_change_date = \"\"\n",
    "    min_profit_change_date = \"\"\n",
    "    for row in csvreader:\n",
    "       \n",
    "        row_count += 1\n",
    "        profit_loss_total += int(row[1])\n",
    "        \n",
    "        curr_month_total = int(row[1])\n",
    "        if row_count > 1:\n",
    "            monthly_profit_change = curr_month_total - prev_month_total\n",
    "            profit_loss_change.append(monthly_profit_change)\n",
    "            if monthly_profit_change > max_profit_change:\n",
    "                max_profit_change = monthly_profit_change\n",
    "                max_profit_change_date = row[0]\n",
    "            elif monthly_profit_change < min_profit_change:\n",
    "                min_profit_change = monthly_profit_change\n",
    "                min_profit_change_date = row[0]\n",
    "        prev_month_total = curr_month_total\n",
    "            \n",
    "        \n",
    "print(row_count)\n",
    "print(profit_loss_total)\n",
    "print(round((sum(profit_loss_change)/len(profit_loss_change)),2))\n",
    "print(max_profit_change)\n",
    "print(max_profit_change_date)\n",
    "print(min_profit_change)\n",
    "print(min_profit_change_date)\n",
    "    \n"
   ]
  },
  {
   "cell_type": "code",
   "execution_count": 3,
   "metadata": {},
   "outputs": [],
   "source": []
  },
  {
   "cell_type": "code",
   "execution_count": null,
   "metadata": {},
   "outputs": [],
   "source": []
  }
 ],
 "metadata": {
  "kernelspec": {
   "display_name": "Python 3",
   "language": "python",
   "name": "python3"
  },
  "language_info": {
   "codemirror_mode": {
    "name": "ipython",
    "version": 3
   },
   "file_extension": ".py",
   "mimetype": "text/x-python",
   "name": "python",
   "nbconvert_exporter": "python",
   "pygments_lexer": "ipython3",
   "version": "3.7.6"
  }
 },
 "nbformat": 4,
 "nbformat_minor": 4
}
